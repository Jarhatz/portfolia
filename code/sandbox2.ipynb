{
 "cells": [
  {
   "cell_type": "code",
   "execution_count": 14,
   "metadata": {},
   "outputs": [],
   "source": [
    "test1 = \"\"\"Based on the current market trends, I can tell you that the oil spill management market is expected to grow significantly over the next few years. According to recent reports, the global oil spill management market size was valued at USD 157.03 billion in 2023 and is projected to reach USD 201.56 billion by 2031, with a CAGR of 3.17% during the forecast period of 2024 to 2031.\\n\\nThe market is driven by increasing oil and gas exploration and production activities, particularly in regions such as Asia Pacific, where countries like India, China, and South Korea are leading the way. Government policies and initiatives are also supporting the growth of the market.\\n\\nIn terms of segmentation, the market is divided into different types, including double-hull, blowout preventer, pipeline leak detection, and others. The application segment is also diverse, with onshore post-oil spill management being a significant area of focus.\\n\\nGiven your investor personality, I would recommend considering investments in companies that specialize in oil spill management and remediation. Your willingness to take calculated risks and preference for maintaining control over your investments could lead to significant returns in this growing market.\\n\\nAdditionally, your openness to borrowing money to make money could provide opportunities for leveraging investments in this sector. However, it\\'s essential to conduct thorough research and due diligence before making any investment decisions.\\n\\nOverall, the oil spill management market presents a promising opportunity for investors, and with careful planning and research, you could potentially achieve significant returns on your investments.\\n\\nJSON:\\n\\n{\\n\"symbol\": \"None\",\\n\"decision\": \"None\",\\n\"days\": 0\\n}.\"\"\"\n",
    "test2 = \"\"\"Based on the analysis of the user\\'s investor personality and the retrieved documents, I can provide a detailed and accurate answer to the question.\\n\\nThe user\\'s investor personality suggests that they are willing to take calculated risks to build wealth, but also prioritize preserving wealth over taking excessive risks. They also prefer to maintain control over their investments and are open to borrowing money to make money.\\n\\nConsidering the retrieved documents, the overall forecast for Intel stocks is positive, with an average analyst price target of $35.47, representing a +60.92% increase from the current price of $22.04. The highest analyst price target is $37.75, and the lowest is $33.18.\\n\\nGiven the user\\'s risk tolerance and investment goals, I would recommend a \"buy\" decision for Intel stocks for the next 27 days. The average target price of $35.47 represents a significant potential upside, and the user\\'s willingness to take calculated risks suggests that they can tolerate the potential volatility associated with investing in the stock market.\\n\\nHere is the JSON output with the recommended decision:\\n\\n```\\n{\\n  \"symbol\": \"INTC\",\\n  \"decision\": \"buy\",\\n  \"days\": 27\\n}\\n```\\n\\nPlease note that this is a hypothetical recommendation based on the provided context and should not be considered as personalized investment advice. It\\'s always recommended to consult with a financial advisor or conduct your own research before making investment decisions..\"\"\"\n",
    "test3 = \"\"\"Based on the current market trends and Nvidia\\'s dominance in the artificial intelligence (AI) chip market, it is likely that NVDA will continue to climb. However, reaching a market cap of $3.35 trillion, equivalent to that of Microsoft and Apple, may be challenging in the short term.\\n\\nNvidia\\'s impressive revenue growth of 237% in the first quarter of its fiscal year 2025, beating expectations by $1.78 billion, is a testament to the company\\'s strong position in the AI market. Additionally, its high gross margin of 78.4% indicates that the company is efficiently managing its costs and maintaining its pricing power.\\n\\nHowever, to reach a market cap of $3.35 trillion, Nvidia would need to sustain its high growth rate over an extended period. While the company has averaged 40% topline growth in the past, achieving 90% of the projected 2030 global AI market would require significant continued growth.\\n\\nConsidering your investor personality, you seem to prioritize building wealth over maintaining your current lifestyle, and you\\'re willing to take calculated risks to achieve your goals. You also prefer to maintain control over your investments and have a strong desire to preserve wealth.\\n\\nGiven these traits, I would recommend a \"buy\" decision for NVDA, but with a long-term perspective. It\\'s essential to be patient and monitor the company\\'s progress, as the journey to reaching a market cap of $3.35 trillion will likely be volatile.\\n\\n JSON:\\n{\\n  \"symbol\": \"NVDA\",\\n  \"decision\": \"buy\",\\n  \"days\": 365\\n}\"\"\"\n",
    "test4 = \"\"\"Based on the analysis of Netflix's current market position and financial performance, I would recommend buying Netflix stock for the next 7 days. The company's recent earnings report was impressive, with revenue jumping 12.5% to $8.83 billion and adding 13.1 million new subscribers. This has led to an 8% increase in the stock price after hours, indicating a positive market reaction. Additionally, according to IBD MarketSurge chart analysis, Netflix stock is currently in the buy range, with a 5% buy zone topping out at 670.95. This suggests that the stock is currently undervalued and has potential for growth. However, it's worth noting that our long-term fair value estimate for Netflix is $500, which implies a multiple of 25 times our 2024 earnings per share. This suggests that the stock may be overvalued in the long term, but for the next 7 days, the current momentum and positive market sentiment make it a good buy opportunity. As someone who values building wealth and is willing to take calculated risks, buying Netflix stock for the next 7 days aligns with your investor personality. { \"symbol\": \"NFLX\", \"decision\": \"buy\", \"days\": 7 }\"\"\"\n",
    "test5 = \"\"\"I can be of great use to you in various ways, specifically tailored to your investor personality and needs. Given your desire to maintain control over your investments and your willingness to take calculated risks, I can provide you with personalized financial advice and investment management guidance.\\n\\nFirstly, I can help you assess your current financial situation and create a customized investment plan that aligns with your wealth goals. This plan will take into account your risk tolerance, investment horizon, and financial objectives.\\n\\nSecondly, I can provide you with in-depth market analysis and research to help you make informed investment decisions. This includes identifying potential investment opportunities, evaluating market trends, and monitoring economic indicators that may impact your investments.\\n\\nThirdly, I can assist you in diversifying your investment portfolio to minimize risk and maximize returns. This may involve exploring alternative investment options, such as real estate, commodities, or cryptocurrencies, in addition to traditional stocks and bonds.\\n\\nLastly, I can offer guidance on leveraging debt to amplify your investments, as you mentioned you believe in borrowing money to make money. However, this will be done with caution and careful consideration of the associated risks.\\n\\nOverall, my goal is to empower you with the knowledge and tools necessary to make informed investment decisions that align with your unique financial goals and risk tolerance. By working together, we can create a personalized investment strategy that helps you achieve your objectives while minimizing potential risks.\\n\\nAs we move forward, I will provide you with tailored advice and guidance to help you navigate the complex world of finance and investing. If you have any specific questions or concerns, please don't hesitate to ask.\\n\\n JSON Response (not applicable in this case, as the question does not ask about predicting a specific stock)\"\"\""
   ]
  },
  {
   "cell_type": "code",
   "execution_count": 19,
   "metadata": {},
   "outputs": [
    {
     "name": "stdout",
     "output_type": "stream",
     "text": [
      "I can be of great use to you in various ways, specifically tailored to your investor personality and needs. Given your desire to maintain control over your investments and your willingness to take calculated risks, I can provide you with personalized financial advice and investment management guidance.\n",
      "\n",
      "Firstly, I can help you assess your current financial situation and create a customized investment plan that aligns with your wealth goals. This plan will take into account your risk tolerance, investment horizon, and financial objectives.\n",
      "\n",
      "Secondly, I can provide you with in-depth market analysis and research to help you make informed investment decisions. This includes identifying potential investment opportunities, evaluating market trends, and monitoring economic indicators that may impact your investments.\n",
      "\n",
      "Thirdly, I can assist you in diversifying your investment portfolio to minimize risk and maximize returns. This may involve exploring alternative investment options, such as real estate, commodities, or cryptocurrencies, in addition to traditional stocks and bonds.\n",
      "\n",
      "Lastly, I can offer guidance on leveraging debt to amplify your investments, as you mentioned you believe in borrowing money to make money. However, this will be done with caution and careful consideration of the associated risks.\n",
      "\n",
      "Overall, my goal is to empower you with the knowledge and tools necessary to make informed investment decisions that align with your unique financial goals and risk tolerance. By working together, we can create a personalized investment strategy that helps you achieve your objectives while minimizing potential risks.\n",
      "\n",
      "As we move forward, I will provide you with tailored advice and guidance to help you navigate the complex world of finance and investing. If you have any specific questions or concerns, please don't hesitate to ask.\n",
      "\n",
      " JSON Response (not applicable in this case, as the question does not ask about predicting a specific stock)\n"
     ]
    }
   ],
   "source": [
    "print(test5)"
   ]
  },
  {
   "cell_type": "code",
   "execution_count": 2,
   "metadata": {},
   "outputs": [
    {
     "name": "stdout",
     "output_type": "stream",
     "text": [
      "{\n",
      "  \"symbol\": \"NVDA\",\n",
      "  \"decision\": \"buy\",\n",
      "  \"days\": 365\n",
      "}\n"
     ]
    }
   ],
   "source": [
    "current_string = test3\n",
    "\n",
    "if current_string.find(\"JSON:\"):\n",
    "    result = current_string[current_string.find(\"JSON\"):]\n",
    "elif current_string.find(\"JSON\"):\n",
    "    result = current_string[current_string.find(\"JSON\"):]\n",
    "else:\n",
    "    print(\"not found\")\n",
    "result = result[6:]\n",
    "print(result)\n"
   ]
  },
  {
   "cell_type": "code",
   "execution_count": 46,
   "metadata": {},
   "outputs": [
    {
     "name": "stdout",
     "output_type": "stream",
     "text": [
      "NVDA buy 365\n"
     ]
    }
   ],
   "source": [
    "import json\n",
    "data = json.loads(result)\n",
    "keys = data.keys()\n",
    "values = data.values()\n",
    "\n",
    "#\n",
    "stockName = data.get('symbol')\n",
    "action = data.get('decision')\n",
    "days = data.get('days')\n",
    "print(stockName,action,days)"
   ]
  },
  {
   "cell_type": "code",
   "execution_count": null,
   "metadata": {},
   "outputs": [],
   "source": []
  }
 ],
 "metadata": {
  "kernelspec": {
   "display_name": "stockformer",
   "language": "python",
   "name": "python3"
  },
  "language_info": {
   "codemirror_mode": {
    "name": "ipython",
    "version": 3
   },
   "file_extension": ".py",
   "mimetype": "text/x-python",
   "name": "python",
   "nbconvert_exporter": "python",
   "pygments_lexer": "ipython3",
   "version": "3.10.14"
  }
 },
 "nbformat": 4,
 "nbformat_minor": 2
}
