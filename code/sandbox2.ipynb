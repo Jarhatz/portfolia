{
 "cells": [
  {
   "cell_type": "code",
   "execution_count": 14,
   "metadata": {},
   "outputs": [],
   "source": [
    "test1 = \"\"\"Based on the current market trends, I can tell you that the oil spill management market is expected to grow significantly over the next few years. According to recent reports, the global oil spill management market size was valued at USD 157.03 billion in 2023 and is projected to reach USD 201.56 billion by 2031, with a CAGR of 3.17% during the forecast period of 2024 to 2031.\\n\\nThe market is driven by increasing oil and gas exploration and production activities, particularly in regions such as Asia Pacific, where countries like India, China, and South Korea are leading the way. Government policies and initiatives are also supporting the growth of the market.\\n\\nIn terms of segmentation, the market is divided into different types, including double-hull, blowout preventer, pipeline leak detection, and others. The application segment is also diverse, with onshore post-oil spill management being a significant area of focus.\\n\\nGiven your investor personality, I would recommend considering investments in companies that specialize in oil spill management and remediation. Your willingness to take calculated risks and preference for maintaining control over your investments could lead to significant returns in this growing market.\\n\\nAdditionally, your openness to borrowing money to make money could provide opportunities for leveraging investments in this sector. However, it\\'s essential to conduct thorough research and due diligence before making any investment decisions.\\n\\nOverall, the oil spill management market presents a promising opportunity for investors, and with careful planning and research, you could potentially achieve significant returns on your investments.\\n\\nJSON:\\n\\n{\\n\"symbol\": \"None\",\\n\"decision\": \"None\",\\n\"days\": 0\\n}.\"\"\"\n",
    "test2 = \"\"\"Based on the analysis of the user\\'s investor personality and the retrieved documents, I can provide a detailed and accurate answer to the question.\\n\\nThe user\\'s investor personality suggests that they are willing to take calculated risks to build wealth, but also prioritize preserving wealth over taking excessive risks. They also prefer to maintain control over their investments and are open to borrowing money to make money.\\n\\nConsidering the retrieved documents, the overall forecast for Intel stocks is positive, with an average analyst price target of $35.47, representing a +60.92% increase from the current price of $22.04. The highest analyst price target is $37.75, and the lowest is $33.18.\\n\\nGiven the user\\'s risk tolerance and investment goals, I would recommend a \"buy\" decision for Intel stocks for the next 27 days. The average target price of $35.47 represents a significant potential upside, and the user\\'s willingness to take calculated risks suggests that they can tolerate the potential volatility associated with investing in the stock market.\\n\\nHere is the JSON output with the recommended decision:\\n\\n```\\n{\\n  \"symbol\": \"INTC\",\\n  \"decision\": \"buy\",\\n  \"days\": 27\\n}\\n```\\n\\nPlease note that this is a hypothetical recommendation based on the provided context and should not be considered as personalized investment advice. It\\'s always recommended to consult with a financial advisor or conduct your own research before making investment decisions..\"\"\"\n",
    "test3 = \"\"\"Based on the current market trends and Nvidia\\'s dominance in the artificial intelligence (AI) chip market, it is likely that NVDA will continue to climb. However, reaching a market cap of $3.35 trillion, equivalent to that of Microsoft and Apple, may be challenging in the short term.\\n\\nNvidia\\'s impressive revenue growth of 237% in the first quarter of its fiscal year 2025, beating expectations by $1.78 billion, is a testament to the company\\'s strong position in the AI market. Additionally, its high gross margin of 78.4% indicates that the company is efficiently managing its costs and maintaining its pricing power.\\n\\nHowever, to reach a market cap of $3.35 trillion, Nvidia would need to sustain its high growth rate over an extended period. While the company has averaged 40% topline growth in the past, achieving 90% of the projected 2030 global AI market would require significant continued growth.\\n\\nConsidering your investor personality, you seem to prioritize building wealth over maintaining your current lifestyle, and you\\'re willing to take calculated risks to achieve your goals. You also prefer to maintain control over your investments and have a strong desire to preserve wealth.\\n\\nGiven these traits, I would recommend a \"buy\" decision for NVDA, but with a long-term perspective. It\\'s essential to be patient and monitor the company\\'s progress, as the journey to reaching a market cap of $3.35 trillion will likely be volatile.\\n\\n JSON:\\n{\\n  \"symbol\": \"NVDA\",\\n  \"decision\": \"buy\",\\n  \"days\": 365\\n}\"\"\"\n",
    "test4 = \"\"\"Based on the analysis of Netflix's current market position and financial performance, I would recommend buying Netflix stock for the next 7 days. The company's recent earnings report was impressive, with revenue jumping 12.5% to $8.83 billion and adding 13.1 million new subscribers. This has led to an 8% increase in the stock price after hours, indicating a positive market reaction. Additionally, according to IBD MarketSurge chart analysis, Netflix stock is currently in the buy range, with a 5% buy zone topping out at 670.95. This suggests that the stock is currently undervalued and has potential for growth. However, it's worth noting that our long-term fair value estimate for Netflix is $500, which implies a multiple of 25 times our 2024 earnings per share. This suggests that the stock may be overvalued in the long term, but for the next 7 days, the current momentum and positive market sentiment make it a good buy opportunity. As someone who values building wealth and is willing to take calculated risks, buying Netflix stock for the next 7 days aligns with your investor personality. { \"symbol\": \"NFLX\", \"decision\": \"buy\", \"days\": 7 }\"\"\"\n",
    "test5 = \"\"\"I can be of great use to you in various ways, specifically tailored to your investor personality and needs. Given your desire to maintain control over your investments and your willingness to take calculated risks, I can provide you with personalized financial advice and investment management guidance.\\n\\nFirstly, I can help you assess your current financial situation and create a customized investment plan that aligns with your wealth goals. This plan will take into account your risk tolerance, investment horizon, and financial objectives.\\n\\nSecondly, I can provide you with in-depth market analysis and research to help you make informed investment decisions. This includes identifying potential investment opportunities, evaluating market trends, and monitoring economic indicators that may impact your investments.\\n\\nThirdly, I can assist you in diversifying your investment portfolio to minimize risk and maximize returns. This may involve exploring alternative investment options, such as real estate, commodities, or cryptocurrencies, in addition to traditional stocks and bonds.\\n\\nLastly, I can offer guidance on leveraging debt to amplify your investments, as you mentioned you believe in borrowing money to make money. However, this will be done with caution and careful consideration of the associated risks.\\n\\nOverall, my goal is to empower you with the knowledge and tools necessary to make informed investment decisions that align with your unique financial goals and risk tolerance. By working together, we can create a personalized investment strategy that helps you achieve your objectives while minimizing potential risks.\\n\\nAs we move forward, I will provide you with tailored advice and guidance to help you navigate the complex world of finance and investing. If you have any specific questions or concerns, please don't hesitate to ask.\\n\\n JSON Response (not applicable in this case, as the question does not ask about predicting a specific stock)\"\"\""
   ]
  },
  {
   "cell_type": "code",
   "execution_count": 19,
   "metadata": {},
   "outputs": [
    {
     "name": "stdout",
     "output_type": "stream",
     "text": [
      "I can be of great use to you in various ways, specifically tailored to your investor personality and needs. Given your desire to maintain control over your investments and your willingness to take calculated risks, I can provide you with personalized financial advice and investment management guidance.\n",
      "\n",
      "Firstly, I can help you assess your current financial situation and create a customized investment plan that aligns with your wealth goals. This plan will take into account your risk tolerance, investment horizon, and financial objectives.\n",
      "\n",
      "Secondly, I can provide you with in-depth market analysis and research to help you make informed investment decisions. This includes identifying potential investment opportunities, evaluating market trends, and monitoring economic indicators that may impact your investments.\n",
      "\n",
      "Thirdly, I can assist you in diversifying your investment portfolio to minimize risk and maximize returns. This may involve exploring alternative investment options, such as real estate, commodities, or cryptocurrencies, in addition to traditional stocks and bonds.\n",
      "\n",
      "Lastly, I can offer guidance on leveraging debt to amplify your investments, as you mentioned you believe in borrowing money to make money. However, this will be done with caution and careful consideration of the associated risks.\n",
      "\n",
      "Overall, my goal is to empower you with the knowledge and tools necessary to make informed investment decisions that align with your unique financial goals and risk tolerance. By working together, we can create a personalized investment strategy that helps you achieve your objectives while minimizing potential risks.\n",
      "\n",
      "As we move forward, I will provide you with tailored advice and guidance to help you navigate the complex world of finance and investing. If you have any specific questions or concerns, please don't hesitate to ask.\n",
      "\n",
      " JSON Response (not applicable in this case, as the question does not ask about predicting a specific stock)\n"
     ]
    }
   ],
   "source": [
    "print(test5)"
   ]
  },
  {
   "cell_type": "code",
   "execution_count": 1,
   "metadata": {},
   "outputs": [
    {
     "name": "stdout",
     "output_type": "stream",
     "text": [
      "Based on the current market trends and the user's investor personality, here's a rundown of the current market and a prediction for the next 30 days:\n",
      "\n",
      "The current market trend has been bullish, with the S&P 500 price target predicted to reach 5,000 by Bank of America and 5,100 by Deutsche Bank. The US economy is approaching a soft landing, with inflation cooling and GDP growth remaining solid, making it a great scenario for the stock market.\n",
      "\n",
      "However, Morgan Stanley notes that the question for investors is whether the leaders can drag the laggards up to their level of performance or if the laggards will eventually overwhelm the leaders' ability to keep delivering in this challenging macro environment.\n",
      "\n",
      "As of December 21, 2023, the US equity market was trading at a price/fair value of 1.00, meaning that the market is equal to a composite of fair value estimates. Morningstar analysts are not as concerned about earnings as they are that management teams may look to lower the bar on the market's expectations for earnings growth in 2024 as the rate of economic growth is poised to slow.\n",
      "\n",
      "Given the user's investor personality, which prioritizes building wealth over current lifestyle and prefers to maintain control over investments, it's likely that they will want to position themselves at a market weight within their targeted long-term asset allocations between equity and fixed income.\n",
      "\n",
      "For the next 30 days, it's predicted that the market will continue to be bullish, with a potential 10% rise in the S&P 500. However, it's essential to keep an eye on the laggards and their potential to impact the market.\n",
      "\n",
      "JSON:\n",
      "```\n",
      "{\n",
      "  \"symbol\": \"None\",\n",
      "  \"action\": \"None\",\n",
      "  \"days\": 30\n",
      "}\n",
      "```\n"
     ]
    }
   ],
   "source": [
    "text1 = \"\"\"Hello! I\\'d be delighted to help you with investing in your portfolio. Based on the information you\\'ve shared, I understand that you\\'re looking to build wealth while maintaining control over your investments. You also prioritize preserving wealth over taking risks to build it. You\\'re open to taking calculated risks and believe in borrowing money to make money.\\n\\nGiven your preferences, I recommend creating a diversified investment portfolio that aligns with your financial goals and risk tolerance. A balanced portfolio typically consists of a mix of low-risk investments, such as bonds, and higher-risk investments, such as stocks.\\n\\nTo get started, let\\'s consider a simple portfolio allocation model. For example, you could allocate 60% of your portfolio to stocks and 40% to bonds. This will provide a relatively stable foundation while allowing for some growth potential.\\n\\nWhen selecting investments, you may want to consider exchange-traded funds (ETFs) and mutual funds, which can help spread risk and provide diversification. You can also consider individual stocks, but it\\'s essential to ensure they align with your overall investment strategy.\\n\\nAutomating your investments can also help you consistently add money to your portfolio, which is a great way to foster growth. Many financial experts recommend saving at least 15% of your annual income for retirement, and automating the process can make it a habit.\\n\\nLastly, it\\'s essential to regularly review and rebalance your portfolio to ensure it remains aligned with your goals and risk tolerance. This may involve selling some investments and buying others to maintain your target asset allocation.\\n\\nBy following these steps, you can create a diversified investment portfolio that aligns with your financial goals and risk tolerance.\\n\\n{\"symbol\": \"None\", \"action\": \"None\", \"days\": \"None\"}\"\"\"\n",
    "text2 = \"\"\"Based on the analysis of the retrieved documents and the user context, it appears that NSRGY stock has been a stable performer in the long run. As the largest consumer staples company in the world, Nestle has a diversified portfolio of brands and products that have helped it weather economic downturns. The company's focus on stable growth in sales volumes and easing cost inflation are positive indicators for its future performance.\n",
    "\n",
    "Given your investor personality, it seems that you prioritize building wealth while maintaining control over your investments. You also have a moderate risk tolerance and are willing to take calculated risks to achieve your financial goals. With these factors in mind, it's likely that you would be interested in holding onto NSRGY stock for the long term, given its stable performance and potential for steady growth.\n",
    "\n",
    "{\"symbol\": \"NSRGY\", \"action\": \"hold\", \"days\": 365}\"\"\"\n",
    "text3  = \"\"\"Based on the current market trends and the user's investor personality, here's a rundown of the current market and a prediction for the next 30 days:\n",
    "\n",
    "The current market trend has been bullish, with the S&P 500 price target predicted to reach 5,000 by Bank of America and 5,100 by Deutsche Bank. The US economy is approaching a soft landing, with inflation cooling and GDP growth remaining solid, making it a great scenario for the stock market.\n",
    "\n",
    "However, Morgan Stanley notes that the question for investors is whether the leaders can drag the laggards up to their level of performance or if the laggards will eventually overwhelm the leaders' ability to keep delivering in this challenging macro environment.\n",
    "\n",
    "As of December 21, 2023, the US equity market was trading at a price/fair value of 1.00, meaning that the market is equal to a composite of fair value estimates. Morningstar analysts are not as concerned about earnings as they are that management teams may look to lower the bar on the market's expectations for earnings growth in 2024 as the rate of economic growth is poised to slow.\n",
    "\n",
    "Given the user's investor personality, which prioritizes building wealth over current lifestyle and prefers to maintain control over investments, it's likely that they will want to position themselves at a market weight within their targeted long-term asset allocations between equity and fixed income.\n",
    "\n",
    "For the next 30 days, it's predicted that the market will continue to be bullish, with a potential 10% rise in the S&P 500. However, it's essential to keep an eye on the laggards and their potential to impact the market.\n",
    "\n",
    "JSON:\n",
    "```\n",
    "{\n",
    "  \"symbol\": \"None\",\n",
    "  \"action\": \"None\",\n",
    "  \"days\": 30\n",
    "}\n",
    "```\"\"\"\n",
    "\n",
    "print(text3)"
   ]
  },
  {
   "cell_type": "code",
   "execution_count": 8,
   "metadata": {},
   "outputs": [
    {
     "name": "stdout",
     "output_type": "stream",
     "text": [
      "MATCH\n",
      "JSON:\n",
      "```\n",
      "{\n",
      "  \"symbol\": \"None\",\n",
      "  \"action\": \"None\",\n",
      "  \"days\": 30\n",
      "}\n"
     ]
    }
   ],
   "source": [
    "import re\n",
    "\n",
    "pattern = r'JSON:\\s*`*\\s*{\\s*\"symbol\"\\s*:\\s*\"\\w*\"\\s*,\\s*\"action\"\\s*:\\s*\"\\w*\"\\s*,\\s*\"days\":\\s*\"?\\w*\"?\\s*}'\n",
    "match = re.search(pattern, text3)\n",
    "if match:\n",
    "    print('MATCH')\n",
    "    json_str = match.group()\n",
    "    print(json_str)\n",
    "    text3.find(json_str)\n"
   ]
  },
  {
   "cell_type": "code",
   "execution_count": 2,
   "metadata": {},
   "outputs": [
    {
     "name": "stdout",
     "output_type": "stream",
     "text": [
      "{\n",
      "  \"symbol\": \"NVDA\",\n",
      "  \"decision\": \"buy\",\n",
      "  \"days\": 365\n",
      "}\n"
     ]
    }
   ],
   "source": [
    "current_string = test3\n",
    "\n",
    "if current_string.find(\"JSON:\"):\n",
    "    result = current_string[current_string.find(\"JSON\"):]\n",
    "elif current_string.find(\"JSON\"):\n",
    "    result = current_string[current_string.find(\"JSON\"):]\n",
    "else:\n",
    "    print(\"not found\")\n",
    "result = result[6:]\n",
    "print(result)\n"
   ]
  },
  {
   "cell_type": "code",
   "execution_count": 46,
   "metadata": {},
   "outputs": [
    {
     "name": "stdout",
     "output_type": "stream",
     "text": [
      "NVDA buy 365\n"
     ]
    }
   ],
   "source": [
    "import json\n",
    "data = json.loads(result)\n",
    "keys = data.keys()\n",
    "values = data.values()\n",
    "\n",
    "#\n",
    "stockName = data.get('symbol')\n",
    "action = data.get('decision')\n",
    "days = data.get('days')\n",
    "print(stockName,action,days)"
   ]
  },
  {
   "cell_type": "code",
   "execution_count": null,
   "metadata": {},
   "outputs": [],
   "source": []
  }
 ],
 "metadata": {
  "kernelspec": {
   "display_name": "stockformer",
   "language": "python",
   "name": "python3"
  },
  "language_info": {
   "codemirror_mode": {
    "name": "ipython",
    "version": 3
   },
   "file_extension": ".py",
   "mimetype": "text/x-python",
   "name": "python",
   "nbconvert_exporter": "python",
   "pygments_lexer": "ipython3",
   "version": "3.10.14"
  }
 },
 "nbformat": 4,
 "nbformat_minor": 2
}
