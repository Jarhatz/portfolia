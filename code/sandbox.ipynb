{
 "cells": [
  {
   "cell_type": "code",
   "execution_count": 1,
   "metadata": {},
   "outputs": [],
   "source": [
    "from langchain_community.tools.tavily_search import TavilySearchResults"
   ]
  },
  {
   "cell_type": "code",
   "execution_count": 2,
   "metadata": {},
   "outputs": [],
   "source": [
    "docs = TavilySearchResults(k=3).invoke({'query': 'NVDA stocks soaring? Investment'})"
   ]
  },
  {
   "cell_type": "code",
   "execution_count": 5,
   "metadata": {},
   "outputs": [
    {
     "name": "stdout",
     "output_type": "stream",
     "text": [
      "{'url': 'https://finance.yahoo.com/news/63-2024-where-nvidias-soaring-160700899.html', 'content': \"S&P 500\\nDow 30\\nNasdaq\\nRussell 2000\\nCrude Oil\\nGold\\nSilver\\nEUR/USD\\n10-Yr Bond\\nGBP/USD\\nUSD/JPY\\nBitcoin USD\\nCMC Crypto 200\\nFTSE 100\\nNikkei 225\\nUp 63% in 2024, Where Will Nvidia's Soaring Stock Be in 5 Years?\\n Before you buy stock in Nvidia, consider this:\\nThe Motley Fool Stock Advisor analyst team just identified what they believe are the\\xa010 best stocks for investors to buy now… and Nvidia wasn’t one of them. Because of the chipmaker's outsized role in the burgeoning AI industry, its operational results can give valuable clues about the state of the sector as a whole. With shares up a whopping 63% year to date, Nvidia (NASDAQ: NVDA) is still riding high on the artificial intelligence (AI) wave that boosted its shares by almost 240% in the last 12 months alone.\\n See the 10 stocks\\n*Stock Advisor returns as of February 26, 2024\\nWill Ebiefung has no position in any of the stocks mentioned.\"}\n",
      "{'url': 'https://www.fool.com/investing/2024/09/11/is-this-a-sign-nvidias-stock-has-peaked/', 'content': 'Nvidia (NVDA 2.14%) has been the ultimate growth stock to own over the past few years. Since 2021, its shares are up more than 700%. That would have been enough to turn a $15,000 investment in the ...'}\n",
      "{'url': 'https://www.reuters.com/technology/why-are-nvidias-shares-soaring-what-is-its-role-ai-boom-2023-05-25/', 'content': \"June 14 (Reuters) - Chip designer Nvidia (NVDA.O) closed Tuesday with a trillion-dollar market value for the first time, part of a steady climb in the stock's price in recent months on the back of ...\"}\n",
      "{'url': 'https://finance.yahoo.com/news/why-nvidia-nvda-shares-soaring-163433836.html', 'content': 'Nvidia is up 139% since the beginning of the year, but at $115.33 per share it is still trading 14.9% below its 52-week high of $135.58 from June 2024. Investors who bought $1,000 worth of Nvidia ...'}\n",
      "{'url': 'https://finance.yahoo.com/news/why-nvidia-nvda-stock-soaring-191548066.html', 'content': \"Nvidia is up 136% since the beginning of the year. Investors who bought $1,000 worth of Nvidia's shares 5 years ago would now be looking at an investment worth $31,676.\"}\n"
     ]
    }
   ],
   "source": [
    "for doc in docs:\n",
    "    print(doc)"
   ]
  }
 ],
 "metadata": {
  "kernelspec": {
   "display_name": "stockformer",
   "language": "python",
   "name": "python3"
  },
  "language_info": {
   "codemirror_mode": {
    "name": "ipython",
    "version": 3
   },
   "file_extension": ".py",
   "mimetype": "text/x-python",
   "name": "python",
   "nbconvert_exporter": "python",
   "pygments_lexer": "ipython3",
   "version": "3.10.14"
  }
 },
 "nbformat": 4,
 "nbformat_minor": 2
}
