{
 "cells": [
  {
   "cell_type": "code",
   "execution_count": null,
   "metadata": {},
   "outputs": [],
   "source": [
    "import os, json\n",
    "import numpy as np\n",
    "import pandas as pd\n",
    "import yfinance as yf\n",
    "from datetime import datetime, timedelta\n",
    "import matplotlib.pyplot as plt\n",
    "\n",
    "from config import StockformerConfig\n",
    "from train import train\n",
    "from inference import init_config, init_model, predict"
   ]
  },
  {
   "cell_type": "code",
   "execution_count": null,
   "metadata": {},
   "outputs": [],
   "source": [
    "load_checkpoint = 'nvda-30d-6-16'\n",
    "config = init_config(load_checkpoint)\n",
    "model = init_model(config, load_checkpoint)"
   ]
  },
  {
   "cell_type": "code",
   "execution_count": null,
   "metadata": {},
   "outputs": [],
   "source": [
    "symbols = ['NVDA']\n",
    "forecasts = predict(symbols, model, config, end_date=\"2024-07-20\")"
   ]
  },
  {
   "cell_type": "code",
   "execution_count": null,
   "metadata": {},
   "outputs": [],
   "source": [
    "for i, forecast in enumerate(forecasts):\n",
    "    figure, axes = plt.subplots()\n",
    "\n",
    "    true_pred = yf.download(\n",
    "        symbols[i],\n",
    "        start=forecast['Date'].iloc[0].strftime('%Y-%m-%d'),\n",
    "        end=forecast['Date'].iloc[-1].strftime('%Y-%m-%d'),\n",
    "    )\n",
    "\n",
    "    axes.plot(true_pred['Close'].values[:-1], color=\"red\", label=\"Actual Forecasted Price\")\n",
    "    axes.plot(forecast['Close'], color=\"green\", label=\"Predicted Forecasted Price\")\n",
    "    axes.plot(forecast['Close'].values[:-config.prediction_length], color=\"blue\", label=\"Historical Price\")\n",
    "    plt.title(f'{symbols[i]} Forecast')\n",
    "    plt.xlabel('Trading Days')\n",
    "    plt.ylabel('Close Price')\n",
    "    plt.legend()\n",
    "    plt.grid(True)\n",
    "    plt.show()"
   ]
  },
  {
   "cell_type": "code",
   "execution_count": null,
   "metadata": {},
   "outputs": [],
   "source": [
    "for i, forecast in enumerate(forecasts):\n",
    "    figure, axes = plt.subplots()\n",
    "\n",
    "    true_pred = yf.download(\n",
    "        symbols[i],\n",
    "        start=forecast['Date'].iloc[0].strftime('%Y-%m-%d'),\n",
    "        end=forecast['Date'].iloc[-1].strftime('%Y-%m-%d'),\n",
    "    )\n",
    "\n",
    "    axes.plot(true_pred['Close'].values[:-1], color=\"red\", label=\"Actual Forecasted Price\")\n",
    "    axes.plot(forecast['Close'], color=\"green\", label=\"Predicted Forecasted Price\")\n",
    "    axes.plot(forecast['Close'].values[:-config.prediction_length], color=\"blue\", label=\"Historical Price\")\n",
    "    plt.title(f'{symbols[i]} Forecast')\n",
    "    plt.xlabel('Trading Days')\n",
    "    plt.ylabel('Close Price')\n",
    "    plt.legend()\n",
    "    plt.grid(True)\n",
    "    plt.show()"
   ]
  },
  {
   "cell_type": "code",
   "execution_count": null,
   "metadata": {},
   "outputs": [],
   "source": [
    "for i, forecast in enumerate(forecasts):\n",
    "    figure, axes = plt.subplots()\n",
    "\n",
    "    true_pred = yf.download(\n",
    "        symbols[i],\n",
    "        start=forecast['Date'].iloc[0].strftime('%Y-%m-%d'),\n",
    "        end=forecast['Date'].iloc[-1].strftime('%Y-%m-%d'),\n",
    "    )\n",
    "\n",
    "    axes.plot(true_pred['Close'].values[:-1], color=\"red\", label=\"Actual Forecasted Price\")\n",
    "    axes.plot(forecast['Close'], color=\"green\", label=\"Predicted Forecasted Price\")\n",
    "    axes.plot(forecast['Close'].values[:-config.prediction_length], color=\"blue\", label=\"Historical Price\")\n",
    "    plt.title(f'{symbols[i]} Forecast')\n",
    "    plt.xlabel('Trading Days')\n",
    "    plt.ylabel('Close Price')\n",
    "    plt.legend()\n",
    "    plt.grid(True)\n",
    "    plt.show()"
   ]
  }
 ],
 "metadata": {
  "kernelspec": {
   "display_name": "ml",
   "language": "python",
   "name": "python3"
  },
  "language_info": {
   "codemirror_mode": {
    "name": "ipython",
    "version": 3
   },
   "file_extension": ".py",
   "mimetype": "text/x-python",
   "name": "python",
   "nbconvert_exporter": "python",
   "pygments_lexer": "ipython3",
   "version": "3.10.14"
  }
 },
 "nbformat": 4,
 "nbformat_minor": 2
}
